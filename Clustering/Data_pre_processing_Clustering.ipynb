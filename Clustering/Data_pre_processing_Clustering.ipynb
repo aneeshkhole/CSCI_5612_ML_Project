{
 "cells": [
  {
   "cell_type": "code",
   "execution_count": 1,
   "metadata": {},
   "outputs": [
    {
     "name": "stdout",
     "output_type": "stream",
     "text": [
      "Synthetic dataset saved to nike_clustering_data.csv\n"
     ]
    }
   ],
   "source": [
    "import pandas as pd\n",
    "import numpy as np\n",
    "from sklearn.cluster import KMeans, DBSCAN\n",
    "from scipy.cluster.hierarchy import linkage, dendrogram, fcluster\n",
    "import matplotlib.pyplot as plt\n",
    "from sklearn.preprocessing import StandardScaler\n",
    "from sklearn.metrics import silhouette_score\n",
    "\n",
    "# Set random seed for reproducibility\n",
    "np.random.seed(42)\n",
    "\n",
    "# Generate structured synthetic data with meaningful clusters\n",
    "num_rows = 2710\n",
    "clusters = 4  # Assume four distinct groups\n",
    "\n",
    "# Define distinct cluster properties\n",
    "cluster_properties = [\n",
    "    {'price_range': (50, 100), 'sales_range': (800, 1000), 'discount_range': (5, 20), 'marketing_score': (7, 10)},\n",
    "    {'price_range': (100, 150), 'sales_range': (400, 700), 'discount_range': (10, 30), 'marketing_score': (5, 8)},\n",
    "    {'price_range': (150, 200), 'sales_range': (100, 400), 'discount_range': (20, 40), 'marketing_score': (3, 6)},\n",
    "    {'price_range': (200, 250), 'sales_range': (50, 200), 'discount_range': (30, 50), 'marketing_score': (1, 4)}\n",
    "]\n",
    "\n",
    "data_list = []\n",
    "for i in range(num_rows):\n",
    "    group = np.random.choice(clusters)\n",
    "    props = cluster_properties[group]\n",
    "    data_list.append([\n",
    "        np.random.uniform(*props['price_range']),\n",
    "        np.random.uniform(*props['sales_range']),\n",
    "        np.random.uniform(*props['discount_range']),\n",
    "        np.random.randint(props['marketing_score'][0], props['marketing_score'][1]+1),\n",
    "        group  # True cluster label (for evaluation purposes)\n",
    "    ])\n",
    "\n",
    "data = pd.DataFrame(data_list, columns=['Price', 'Sale Quantity', 'Discount (%)', 'Marketing Appeal Score', 'True Cluster'])\n",
    "\n",
    "# Save to CSV\n",
    "csv_filename = 'nike_clustering_data.csv'\n",
    "data.to_csv(csv_filename, index=False)\n",
    "print(f\"Synthetic dataset saved to {csv_filename}\")"
   ]
  },
  {
   "cell_type": "code",
   "execution_count": null,
   "metadata": {},
   "outputs": [],
   "source": []
  }
 ],
 "metadata": {
  "kernelspec": {
   "display_name": "Python 3",
   "language": "python",
   "name": "python3"
  },
  "language_info": {
   "codemirror_mode": {
    "name": "ipython",
    "version": 3
   },
   "file_extension": ".py",
   "mimetype": "text/x-python",
   "name": "python",
   "nbconvert_exporter": "python",
   "pygments_lexer": "ipython3",
   "version": "3.11.4"
  }
 },
 "nbformat": 4,
 "nbformat_minor": 2
}
