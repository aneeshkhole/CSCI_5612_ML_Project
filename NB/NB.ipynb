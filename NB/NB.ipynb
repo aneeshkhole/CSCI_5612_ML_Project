{
 "cells": [
  {
   "cell_type": "code",
   "execution_count": null,
   "metadata": {},
   "outputs": [],
   "source": [
    "import numpy as np\n",
    "import pandas as pd\n",
    "from sklearn.model_selection import train_test_split\n",
    "from sklearn.preprocessing import MinMaxScaler\n",
    "from sklearn.naive_bayes import BernoulliNB, GaussianNB, MultinomialNB\n",
    "from sklearn.metrics import confusion_matrix, accuracy_score, classification_report\n",
    "import matplotlib.pyplot as plt\n",
    "import seaborn as sns"
   ]
  },
  {
   "cell_type": "code",
   "execution_count": 5,
   "metadata": {},
   "outputs": [],
   "source": [
    "df = pd.read_csv('nike_labelled_data.csv')"
   ]
  },
  {
   "cell_type": "code",
   "execution_count": 6,
   "metadata": {},
   "outputs": [],
   "source": [
    "df_cleaned = df[(df.select_dtypes(include=[np.number]) >= 0).all(axis=1)].copy()"
   ]
  },
  {
   "cell_type": "code",
   "execution_count": 7,
   "metadata": {},
   "outputs": [],
   "source": [
    "df_cleaned[\"High_Sales\"] = (df_cleaned[\"Sale Quantity\"] >= 800).astype(int)"
   ]
  },
  {
   "cell_type": "code",
   "execution_count": 29,
   "metadata": {},
   "outputs": [],
   "source": [
    "df_cleaned.to_csv('NB_data.csv')"
   ]
  },
  {
   "cell_type": "code",
   "execution_count": 8,
   "metadata": {},
   "outputs": [],
   "source": [
    "features = df_cleaned.drop(columns=[\"High_Sales\", \"Title\", \"Subtitle\", \"Color\", \"Color Description\", \"Badge\", \"Dominant Color\"])\n",
    "labels = df_cleaned[\"High_Sales\"]"
   ]
  },
  {
   "cell_type": "code",
   "execution_count": 9,
   "metadata": {},
   "outputs": [],
   "source": [
    "scaler = MinMaxScaler()\n",
    "X_scaled = scaler.fit_transform(features)"
   ]
  },
  {
   "cell_type": "code",
   "execution_count": 10,
   "metadata": {},
   "outputs": [],
   "source": [
    "X_train, X_test, y_train, y_test = train_test_split(X_scaled, labels, test_size=0.3, random_state=42)\n"
   ]
  },
  {
   "cell_type": "code",
   "execution_count": 20,
   "metadata": {},
   "outputs": [
    {
     "data": {
      "text/plain": [
       "array([[0.28185082, 0.4137931 , 0.59183673, ..., 0.33333333, 0.441     ,\n",
       "        0.        ],\n",
       "       [0.08052881, 0.12068966, 0.59183673, ..., 0.88888889, 0.303     ,\n",
       "        0.        ],\n",
       "       [0.14763614, 0.22413793, 0.6122449 , ..., 1.        , 0.936     ,\n",
       "        1.        ],\n",
       "       ...,\n",
       "       [0.21474348, 0.31034483, 0.57142857, ..., 0.55555556, 0.375     ,\n",
       "        0.        ],\n",
       "       [0.29191692, 0.51724138, 0.79591837, ..., 0.55555556, 0.289     ,\n",
       "        0.        ],\n",
       "       [0.12414858, 0.20689655, 0.69387755, ..., 0.11111111, 0.264     ,\n",
       "        0.        ]])"
      ]
     },
     "execution_count": 20,
     "metadata": {},
     "output_type": "execute_result"
    }
   ],
   "source": [
    "X_train"
   ]
  },
  {
   "cell_type": "code",
   "execution_count": 11,
   "metadata": {},
   "outputs": [],
   "source": [
    "mnb = MultinomialNB()\n",
    "mnb.fit(X_train, y_train)\n",
    "mnb_pred = mnb.predict(X_test)\n",
    "mnb_report = classification_report(y_test, mnb_pred, output_dict=True)"
   ]
  },
  {
   "cell_type": "code",
   "execution_count": 12,
   "metadata": {},
   "outputs": [
    {
     "data": {
      "text/plain": [
       "{'0': {'precision': 0.829512893982808,\n",
       "  'recall': 0.9897435897435898,\n",
       "  'f1-score': 0.9025720966484801,\n",
       "  'support': 585},\n",
       " '1': {'precision': 0.9469026548672567,\n",
       "  'recall': 0.47345132743362833,\n",
       "  'f1-score': 0.6312684365781711,\n",
       "  'support': 226},\n",
       " 'accuracy': 0.8458692971639951,\n",
       " 'macro avg': {'precision': 0.8882077744250323,\n",
       "  'recall': 0.731597458588609,\n",
       "  'f1-score': 0.7669202666133257,\n",
       "  'support': 811},\n",
       " 'weighted avg': {'precision': 0.8622257003451821,\n",
       "  'recall': 0.8458692971639951,\n",
       "  'f1-score': 0.8269683640025,\n",
       "  'support': 811}}"
      ]
     },
     "execution_count": 12,
     "metadata": {},
     "output_type": "execute_result"
    }
   ],
   "source": [
    "mnb_report"
   ]
  },
  {
   "cell_type": "code",
   "execution_count": 13,
   "metadata": {},
   "outputs": [],
   "source": [
    "bnb = BernoulliNB()\n",
    "bnb.fit(X_train, y_train)\n",
    "bnb_pred = bnb.predict(X_test)\n",
    "bnb_report = classification_report(y_test, bnb_pred, output_dict=True)"
   ]
  },
  {
   "cell_type": "code",
   "execution_count": 14,
   "metadata": {},
   "outputs": [
    {
     "data": {
      "text/plain": [
       "{'0': {'precision': 0.9181034482758621,\n",
       "  'recall': 0.7282051282051282,\n",
       "  'f1-score': 0.8122020972354623,\n",
       "  'support': 585},\n",
       " '1': {'precision': 0.5417867435158501,\n",
       "  'recall': 0.831858407079646,\n",
       "  'f1-score': 0.6561954624781849,\n",
       "  'support': 226},\n",
       " 'accuracy': 0.7570900123304563,\n",
       " 'macro avg': {'precision': 0.7299450958958561,\n",
       "  'recall': 0.7800317676423871,\n",
       "  'f1-score': 0.7341987798568237,\n",
       "  'support': 811},\n",
       " 'weighted avg': {'precision': 0.8132359078618514,\n",
       "  'recall': 0.7570900123304563,\n",
       "  'f1-score': 0.7687279918653703,\n",
       "  'support': 811}}"
      ]
     },
     "execution_count": 14,
     "metadata": {},
     "output_type": "execute_result"
    }
   ],
   "source": [
    "bnb_report"
   ]
  },
  {
   "cell_type": "code",
   "execution_count": 15,
   "metadata": {},
   "outputs": [],
   "source": [
    "X_train_gnb, X_test_gnb, _, _ = train_test_split(features, labels, test_size=0.3, random_state=42)\n",
    "gnb = GaussianNB()\n",
    "gnb.fit(X_train_gnb, y_train)\n",
    "gnb_pred = gnb.predict(X_test_gnb)\n",
    "gnb_report = classification_report(y_test, gnb_pred, output_dict=True)"
   ]
  },
  {
   "cell_type": "code",
   "execution_count": 16,
   "metadata": {},
   "outputs": [
    {
     "data": {
      "text/plain": [
       "{'0': {'precision': 0.9519867549668874,\n",
       "  'recall': 0.9829059829059829,\n",
       "  'f1-score': 0.9671993271656855,\n",
       "  'support': 585},\n",
       " '1': {'precision': 0.9516908212560387,\n",
       "  'recall': 0.8716814159292036,\n",
       "  'f1-score': 0.909930715935335,\n",
       "  'support': 226},\n",
       " 'accuracy': 0.9519112207151664,\n",
       " 'macro avg': {'precision': 0.951838788111463,\n",
       "  'recall': 0.9272936994175932,\n",
       "  'f1-score': 0.9385650215505102,\n",
       "  'support': 811},\n",
       " 'weighted avg': {'precision': 0.9519042876195978,\n",
       "  'recall': 0.9519112207151664,\n",
       "  'f1-score': 0.951240380016414,\n",
       "  'support': 811}}"
      ]
     },
     "execution_count": 16,
     "metadata": {},
     "output_type": "execute_result"
    }
   ],
   "source": [
    "gnb_report"
   ]
  },
  {
   "cell_type": "code",
   "execution_count": 40,
   "metadata": {},
   "outputs": [
    {
     "name": "stdout",
     "output_type": "stream",
     "text": [
      "MultinomialNB Training Set Sample:\n",
      "\n",
      "[[0.28185082 0.4137931  0.59183673 ... 0.33333333 0.441      0.        ]\n",
      " [0.08052881 0.12068966 0.59183673 ... 0.88888889 0.303      0.        ]\n",
      " [0.14763614 0.22413793 0.6122449  ... 1.         0.936      1.        ]\n",
      " ...\n",
      " [0.21474348 0.31034483 0.57142857 ... 0.55555556 0.375      0.        ]\n",
      " [0.29191692 0.51724138 0.79591837 ... 0.55555556 0.289      0.        ]\n",
      " [0.12414858 0.20689655 0.69387755 ... 0.11111111 0.264      0.        ]]\n"
     ]
    }
   ],
   "source": [
    "print(\"MultinomialNB Training Set Sample:\\n\")\n",
    "print(X_train)"
   ]
  },
  {
   "cell_type": "code",
   "execution_count": 41,
   "metadata": {},
   "outputs": [
    {
     "name": "stdout",
     "output_type": "stream",
     "text": [
      "BernoulliNB Training Set Sample:\n",
      "\n",
      "[[0.28185082 0.4137931  0.59183673 ... 0.33333333 0.441      0.        ]\n",
      " [0.08052881 0.12068966 0.59183673 ... 0.88888889 0.303      0.        ]\n",
      " [0.14763614 0.22413793 0.6122449  ... 1.         0.936      1.        ]\n",
      " ...\n",
      " [0.21474348 0.31034483 0.57142857 ... 0.55555556 0.375      0.        ]\n",
      " [0.29191692 0.51724138 0.79591837 ... 0.55555556 0.289      0.        ]\n",
      " [0.12414858 0.20689655 0.69387755 ... 0.11111111 0.264      0.        ]]\n"
     ]
    }
   ],
   "source": [
    "print(\"BernoulliNB Training Set Sample:\\n\")\n",
    "print(X_train)"
   ]
  },
  {
   "cell_type": "code",
   "execution_count": 42,
   "metadata": {},
   "outputs": [
    {
     "name": "stdout",
     "output_type": "stream",
     "text": [
      "GaussianNB Training Set Sample:\n",
      "\n",
      "       Price  Initial Price  Discount (%)  Discount Amount  Discount Flag  \\\n",
      "1586  105.97            150            29            44.03              1   \n",
      "555    45.97             65            29            19.03              1   \n",
      "1461   65.97             95            30            29.03              1   \n",
      "2707   40.00             40             0             0.00              0   \n",
      "1001   85.00             85             0             0.00              0   \n",
      "...      ...            ...           ...              ...            ...   \n",
      "1638   84.97            120            29            35.03              1   \n",
      "1095  130.00            130             0             0.00              0   \n",
      "1130   85.97            120            28            34.03              1   \n",
      "1294  108.97            180            39            71.03              1   \n",
      "860    58.97             90            34            31.03              1   \n",
      "\n",
      "      Price Category  Color Diversity Score  Is Just In  Is Best Seller  \\\n",
      "1586               2                      4           0               0   \n",
      "555                0                      2           0               0   \n",
      "1461               1                      4           0               1   \n",
      "2707               0                      3           0               0   \n",
      "1001               1                      3           0               0   \n",
      "...              ...                    ...         ...             ...   \n",
      "1638               1                      2           0               0   \n",
      "1095               2                      3           0               0   \n",
      "1130               1                      2           0               0   \n",
      "1294               2                      3           0               0   \n",
      "860                1                      4           0               0   \n",
      "\n",
      "      Is Coming Soon  ...  Color_Pink  Color_Purple  Color_Red  Color_White  \\\n",
      "1586               0  ...       False         False       True        False   \n",
      "555                0  ...       False         False      False        False   \n",
      "1461               0  ...       False         False      False        False   \n",
      "2707               0  ...       False         False       True        False   \n",
      "1001               0  ...       False         False      False        False   \n",
      "...              ...  ...         ...           ...        ...          ...   \n",
      "1638               0  ...       False         False      False        False   \n",
      "1095               0  ...       False         False      False        False   \n",
      "1130               0  ...       False         False      False        False   \n",
      "1294               0  ...       False         False      False         True   \n",
      "860                0  ...       False         False      False        False   \n",
      "\n",
      "      Color_Yellow  Title Word Count  Subtitle Word Count  \\\n",
      "1586         False                 3                    6   \n",
      "555          False                 5                    4   \n",
      "1461         False                 6                    3   \n",
      "2707         False                 5                    2   \n",
      "1001         False                 5                    4   \n",
      "...            ...               ...                  ...   \n",
      "1638         False                 3                    4   \n",
      "1095         False                 6                    5   \n",
      "1130         False                 2                    4   \n",
      "1294         False                 4                    2   \n",
      "860          False                 4                    3   \n",
      "\n",
      "      Marketing Appeal Score  Sale Quantity  Label  \n",
      "1586                       4            441      0  \n",
      "555                        9            303      0  \n",
      "1461                      10            936      1  \n",
      "2707                       7            895      0  \n",
      "1001                       6            550      0  \n",
      "...                      ...            ...    ...  \n",
      "1638                       4            172      0  \n",
      "1095                       3            200      0  \n",
      "1130                       6            375      0  \n",
      "1294                       6            289      0  \n",
      "860                        2            264      0  \n",
      "\n",
      "[1892 rows x 35 columns]\n"
     ]
    }
   ],
   "source": [
    "print(\"GaussianNB Training Set Sample:\\n\")\n",
    "print(X_train_gnb)"
   ]
  },
  {
   "cell_type": "code",
   "execution_count": 32,
   "metadata": {},
   "outputs": [],
   "source": [
    "features.to_csv('GNB_data.csv',index=False)"
   ]
  },
  {
   "cell_type": "code",
   "execution_count": 35,
   "metadata": {},
   "outputs": [
    {
     "data": {
      "image/png": "[encoded data removed]",
      "text/plain": [
       "<Figure size 600x500 with 2 Axes>"
      ]
     },
     "metadata": {},
     "output_type": "display_data"
    },
    {
     "data": {
      "image/png": "[encoded data removed]",
      "text/plain": [
       "<Figure size 600x500 with 2 Axes>"
      ]
     },
     "metadata": {},
     "output_type": "display_data"
    },
    {
     "data": {
      "image/png": "[encoded data removed]",
      "text/plain": [
       "<Figure size 600x500 with 2 Axes>"
      ]
     },
     "metadata": {},
     "output_type": "display_data"
    }
   ],
   "source": [
    "# Predictions\n",
    "y_pred_mnb = mnb.predict(X_test)\n",
    "y_pred_bnb = bnb.predict(X_test)\n",
    "y_pred_gnb = gnb.predict(X_test_gnb)\n",
    "\n",
    "# Confusion Matrices\n",
    "mnb_conf_matrix = confusion_matrix(y_test, y_pred_mnb)\n",
    "bnb_conf_matrix = confusion_matrix(y_test, y_pred_bnb)\n",
    "gnb_conf_matrix = confusion_matrix(y_test, y_pred_gnb)\n",
    "\n",
    "# Multinomial NB\n",
    "plt.figure(figsize=(6, 5))\n",
    "sns.heatmap(mnb_conf_matrix, annot=True, fmt='d', cmap='Blues')\n",
    "plt.title('Multinomial NB Confusion Matrix')\n",
    "plt.xlabel('Predicted')\n",
    "plt.ylabel('Actual')\n",
    "plt.tight_layout()\n",
    "plt.show()\n",
    "\n",
    "# Bernoulli NB\n",
    "plt.figure(figsize=(6, 5))\n",
    "sns.heatmap(bnb_conf_matrix, annot=True, fmt='d', cmap='Greens')\n",
    "plt.title('Bernoulli NB Confusion Matrix')\n",
    "plt.xlabel('Predicted')\n",
    "plt.ylabel('Actual')\n",
    "plt.tight_layout()\n",
    "plt.show()\n",
    "\n",
    "# Gaussian NB\n",
    "plt.figure(figsize=(6, 5))\n",
    "sns.heatmap(gnb_conf_matrix, annot=True, fmt='d', cmap='Reds')\n",
    "plt.title('Gaussian NB Confusion Matrix')\n",
    "plt.xlabel('Predicted')\n",
    "plt.ylabel('Actual')\n",
    "plt.tight_layout()\n",
    "plt.show()"
   ]
  },
  {
   "cell_type": "code",
   "execution_count": null,
   "metadata": {},
   "outputs": [],
   "source": []
  }
 ],
 "metadata": {
  "kernelspec": {
   "display_name": "Python 3",
   "language": "python",
   "name": "python3"
  },
  "language_info": {
   "codemirror_mode": {
    "name": "ipython",
    "version": 3
   },
   "file_extension": ".py",
   "mimetype": "text/x-python",
   "name": "python",
   "nbconvert_exporter": "python",
   "pygments_lexer": "ipython3",
   "version": "3.11.4"
  }
 },
 "nbformat": 4,
 "nbformat_minor": 2
}
