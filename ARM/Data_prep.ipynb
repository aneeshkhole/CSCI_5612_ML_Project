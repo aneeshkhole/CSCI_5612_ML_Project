{
 "cells": [
  {
   "cell_type": "code",
   "execution_count": 1,
   "metadata": {},
   "outputs": [],
   "source": [
    "import pandas as pd"
   ]
  },
  {
   "cell_type": "code",
   "execution_count": 3,
   "metadata": {},
   "outputs": [
    {
     "data": {
      "text/plain": [
       "Index(['Title', 'Subtitle', 'Price', 'Initial Price', 'Discount (%)', 'Color',\n",
       "       'Color Description', 'Badge', 'Discount Amount', 'Discount Flag',\n",
       "       'Price Category', 'Color Diversity Score', 'Is Just In',\n",
       "       'Is Best Seller', 'Is Coming Soon', 'Is Member Product',\n",
       "       'Is Sustainable Materials', 'Is Launching in SNKRS', 'Is Sold Out',\n",
       "       'Is Available in SNKRS', 'Is Customize', 'Color_Black', 'Color_Blue',\n",
       "       'Color_Brown', 'Color_Cream', 'Color_Green', 'Color_Grey',\n",
       "       'Color_Khaki', 'Color_Multi-Color', 'Color_Orange', 'Color_Pink',\n",
       "       'Color_Purple', 'Color_Red', 'Color_White', 'Color_Yellow',\n",
       "       'Dominant Color', 'Title Word Count', 'Subtitle Word Count',\n",
       "       'Marketing Appeal Score', 'Sale Quantity'],\n",
       "      dtype='object')"
      ]
     },
     "execution_count": 3,
     "metadata": {},
     "output_type": "execute_result"
    }
   ],
   "source": [
    "df = pd.read_csv('nike_products_with_features.csv')\n",
    "df.columns"
   ]
  },
  {
   "cell_type": "code",
   "execution_count": 4,
   "metadata": {},
   "outputs": [],
   "source": [
    "categorical_columns = [\n",
    "    \"Is Just In\", \"Is Best Seller\", \"Is Coming Soon\", \"Is Member Product\",\n",
    "    \"Is Sustainable Materials\", \"Is Launching in SNKRS\", \"Is Sold Out\", \"Is Available in SNKRS\",\n",
    "    \"Is Customize\", \"Color_Black\", \"Color_Blue\", \"Color_Brown\", \"Color_Cream\",\n",
    "    \"Color_Green\", \"Color_Grey\", \"Color_Khaki\", \"Color_Multi-Color\", \"Color_Orange\",\n",
    "    \"Color_Pink\", \"Color_Purple\", \"Color_Red\", \"Color_White\", \"Color_Yellow\", \"Badge\"\n",
    "]"
   ]
  },
  {
   "cell_type": "code",
   "execution_count": 5,
   "metadata": {},
   "outputs": [],
   "source": [
    "arm_data = []\n",
    "for _, row in df.iterrows():\n",
    "    transaction = []\n",
    "    \n",
    "    for col in categorical_columns:\n",
    "        if col in df.columns and row[col] == 1:\n",
    "            transaction.append(col.replace(\"_\", \" \"))\n",
    "    \n",
    "    if pd.notna(row[\"Badge\"]):\n",
    "        transaction.append(row[\"Badge\"])\n",
    "    \n",
    "    arm_data.append(transaction)"
   ]
  },
  {
   "cell_type": "code",
   "execution_count": 6,
   "metadata": {},
   "outputs": [
    {
     "data": {
      "text/html": [
       "<div>\n",
       "<style scoped>\n",
       "    .dataframe tbody tr th:only-of-type {\n",
       "        vertical-align: middle;\n",
       "    }\n",
       "\n",
       "    .dataframe tbody tr th {\n",
       "        vertical-align: top;\n",
       "    }\n",
       "\n",
       "    .dataframe thead th {\n",
       "        text-align: right;\n",
       "    }\n",
       "</style>\n",
       "<table border=\"1\" class=\"dataframe\">\n",
       "  <thead>\n",
       "    <tr style=\"text-align: right;\">\n",
       "      <th></th>\n",
       "      <th>0</th>\n",
       "      <th>1</th>\n",
       "      <th>2</th>\n",
       "    </tr>\n",
       "  </thead>\n",
       "  <tbody>\n",
       "    <tr>\n",
       "      <th>0</th>\n",
       "      <td>Is Just In</td>\n",
       "      <td>Color Pink</td>\n",
       "      <td>Just In</td>\n",
       "    </tr>\n",
       "    <tr>\n",
       "      <th>1</th>\n",
       "      <td>Is Just In</td>\n",
       "      <td>Color Grey</td>\n",
       "      <td>Just In</td>\n",
       "    </tr>\n",
       "    <tr>\n",
       "      <th>2</th>\n",
       "      <td>Is Just In</td>\n",
       "      <td>Color Orange</td>\n",
       "      <td>Just In</td>\n",
       "    </tr>\n",
       "    <tr>\n",
       "      <th>3</th>\n",
       "      <td>Is Just In</td>\n",
       "      <td>Color Brown</td>\n",
       "      <td>Just In</td>\n",
       "    </tr>\n",
       "    <tr>\n",
       "      <th>4</th>\n",
       "      <td>Color Brown</td>\n",
       "      <td>None</td>\n",
       "      <td>None</td>\n",
       "    </tr>\n",
       "  </tbody>\n",
       "</table>\n",
       "</div>"
      ],
      "text/plain": [
       "             0             1        2\n",
       "0   Is Just In    Color Pink  Just In\n",
       "1   Is Just In    Color Grey  Just In\n",
       "2   Is Just In  Color Orange  Just In\n",
       "3   Is Just In   Color Brown  Just In\n",
       "4  Color Brown          None     None"
      ]
     },
     "execution_count": 6,
     "metadata": {},
     "output_type": "execute_result"
    }
   ],
   "source": [
    "df_arm = pd.DataFrame(arm_data)\n",
    "df_arm.head()"
   ]
  },
  {
   "cell_type": "code",
   "execution_count": 8,
   "metadata": {},
   "outputs": [
    {
     "name": "stdout",
     "output_type": "stream",
     "text": [
      "ARM-compatible dataset saved to nike_ARM_data.csv\n"
     ]
    }
   ],
   "source": [
    "arm_file_path = \"nike_ARM_data.csv\"\n",
    "df_arm.to_csv(arm_file_path, index=False, header=False)\n",
    "\n",
    "print(f\"ARM-compatible dataset saved to {arm_file_path}\")"
   ]
  }
 ],
 "metadata": {
  "kernelspec": {
   "display_name": "Python 3",
   "language": "python",
   "name": "python3"
  },
  "language_info": {
   "codemirror_mode": {
    "name": "ipython",
    "version": 3
   },
   "file_extension": ".py",
   "mimetype": "text/x-python",
   "name": "python",
   "nbconvert_exporter": "python",
   "pygments_lexer": "ipython3",
   "version": "3.11.4"
  }
 },
 "nbformat": 4,
 "nbformat_minor": 2
}
